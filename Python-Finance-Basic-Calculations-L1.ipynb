{
 "cells": [
  {
   "cell_type": "code",
   "execution_count": 1,
   "id": "d60c16a9-1fef-441c-9ab9-b35748b3e000",
   "metadata": {},
   "outputs": [],
   "source": [
    "import numpy_financial as npf\n",
    "import numpy as np\n",
    "import matplotlib.pyplot as plt"
   ]
  },
  {
   "cell_type": "code",
   "execution_count": 2,
   "id": "0e031e20-e0d4-466e-b903-0aa9faa58413",
   "metadata": {
    "tags": []
   },
   "outputs": [],
   "source": [
    "# # Future Value - (fv)"
   ]
  },
  {
   "cell_type": "code",
   "execution_count": 3,
   "id": "989ff332-4ff3-4a89-b78c-2c0da99f8400",
   "metadata": {},
   "outputs": [
    {
     "name": "stdout",
     "output_type": "stream",
     "text": [
      "Res 1469.3280768000006\n"
     ]
    }
   ],
   "source": [
    "res = npf.fv(rate=0.08, nper=5, pmt=0, pv=-1000)\n",
    "print(\"Res\", res)"
   ]
  },
  {
   "cell_type": "code",
   "execution_count": 4,
   "id": "49f42046-527f-4513-aafe-c935f00d875b",
   "metadata": {},
   "outputs": [],
   "source": [
    "# Numpy Refresh"
   ]
  },
  {
   "cell_type": "code",
   "execution_count": 5,
   "id": "bec4241d-3718-479e-aad5-a1d95266d50c",
   "metadata": {},
   "outputs": [
    {
     "name": "stdout",
     "output_type": "stream",
     "text": [
      "Prices:  [42.8, 102.03, 240.38, 80.9]\n",
      "np.mean(prices):  116.5275\n",
      "np.std(prices):  74.59001654879827\n",
      "np.sum(prices):  466.11\n",
      "np.max(prices):  240.38\n"
     ]
    }
   ],
   "source": [
    "prices = [42.8, 102.03, 240.38, 80.9]\n",
    "print(\"Prices: \", prices)\n",
    "print(\"np.mean(prices): \", np.mean(prices))\n",
    "print(\"np.std(prices): \", np.std(prices))\n",
    "print(\"np.sum(prices): \", np.sum(prices))\n",
    "print(\"np.max(prices): \", np.max(prices))"
   ]
  },
  {
   "cell_type": "code",
   "execution_count": 6,
   "id": "64a24901-3c6a-4ee3-b27d-bc345c82b15c",
   "metadata": {},
   "outputs": [],
   "source": [
    "# Numpy-Financial\n",
    "# Future Value - (fv)"
   ]
  },
  {
   "cell_type": "code",
   "execution_count": 7,
   "id": "3443dc8e-8316-4d6b-9b1f-1f903713414d",
   "metadata": {},
   "outputs": [
    {
     "name": "stdout",
     "output_type": "stream",
     "text": [
      "Future Value - (fv):  200.0\n"
     ]
    }
   ],
   "source": [
    "print(\"Future Value - (fv): \", npf.fv(rate=1, nper=1, pmt=0, pv=-100))\n"
   ]
  },
  {
   "cell_type": "code",
   "execution_count": 8,
   "id": "b526cf68-3656-4d26-ab56-5021eeb50759",
   "metadata": {},
   "outputs": [],
   "source": [
    "# Present Value - (pv)"
   ]
  },
  {
   "cell_type": "code",
   "execution_count": 9,
   "id": "4b6ac2e9-ad1b-4b59-afa8-55b5b31c882c",
   "metadata": {},
   "outputs": [
    {
     "name": "stdout",
     "output_type": "stream",
     "text": [
      "Present Value - (pv) -466.50738020973307\n"
     ]
    }
   ],
   "source": [
    "print(\"Present Value - (pv)\", npf.pv(rate=0.10, nper=8, pmt=0, fv=1000))"
   ]
  },
  {
   "cell_type": "code",
   "execution_count": 10,
   "id": "8248d083-b7c1-46c9-813c-bfd9dcde47cb",
   "metadata": {},
   "outputs": [],
   "source": [
    "# Monthly payment against loan principal plus interest\n",
    "# The pmt() function is used to compute the payment against loan principal plus interest.\n",
    "\n",
    "# Let's say we want to calculate how much we have to pay monthly to pay back\n",
    "# a loan of 100,000 in 5 years. The yearly interest rate is 7%, and is calculated monthly."
   ]
  },
  {
   "cell_type": "code",
   "execution_count": 11,
   "id": "cb3804a7-9c3c-4194-a948-53ff70213777",
   "metadata": {},
   "outputs": [
    {
     "name": "stdout",
     "output_type": "stream",
     "text": [
      "Loan Payments:  -1980.1198540349467\n"
     ]
    }
   ],
   "source": [
    "print(\"Loan Payments: \", npf.pmt(rate=0.07 / 12, nper=5 * 12, pv=100000, fv=0))"
   ]
  },
  {
   "cell_type": "code",
   "execution_count": 12,
   "id": "668f00d8-6b2a-48cb-9aa0-36396d5c0713",
   "metadata": {},
   "outputs": [],
   "source": [
    "# Note that aside from computing a monthly mortgage payment,\n",
    "# the pmt() function can be used to return the periodic deposit one must make to achieve\n",
    "# a specified future balance with a given interest rate.\n",
    "\n",
    "# The code will return the monthly deposits needed to achieve 50000 in 5 years with 10% annual interest."
   ]
  },
  {
   "cell_type": "code",
   "execution_count": 13,
   "id": "f32400b9-6dc9-4845-a061-4ef1918b2945",
   "metadata": {},
   "outputs": [
    {
     "name": "stdout",
     "output_type": "stream",
     "text": [
      "Monthly Payment for future goal:  -698.3932603508067\n"
     ]
    }
   ],
   "source": [
    "print(\"Monthly Payment for future goal: \", npf.pmt(rate=0.07/12, nper=5*12, pv=0, fv=50000))"
   ]
  },
  {
   "cell_type": "code",
   "execution_count": 15,
   "id": "99f090ff-d11f-495c-a067-a7df254b3477",
   "metadata": {},
   "outputs": [],
   "source": [
    "# Numpy Financial has an irr() function, used to calculate the IRR (Internal Rate of Return).\n",
    "# Let's assume we invested 5000 and got the following payments back: 500, 700, 1000, 3000.\n",
    "# To calculate the IRR, we first need to declare an array with the values, with the\n",
    "# first value being our initial investment:"
   ]
  },
  {
   "cell_type": "code",
   "execution_count": 16,
   "id": "086454fc-0ed0-488d-bfdc-25c133b775aa",
   "metadata": {},
   "outputs": [
    {
     "name": "stdout",
     "output_type": "stream",
     "text": [
      "IRR:  0.012164656866492818\n"
     ]
    }
   ],
   "source": [
    "cashflow = [-5000, 500, 700, 1000, 3000]\n",
    "\n",
    "print(\"IRR: \", npf.irr(cashflow))"
   ]
  },
  {
   "cell_type": "code",
   "execution_count": 17,
   "id": "c6c04901-c169-4e9f-abd8-924ac35a2488",
   "metadata": {},
   "outputs": [],
   "source": [
    "# Comparing IRR\n",
    "# Let's use the irr() function to compare two investment opportunities and decide which one is better.\n",
    "\n",
    "# Option 1:\n",
    "# Requires 50K in investment\n",
    "# Will pay 10K, 25K, 25K, 35K, 42K each year for the next 5 years.\n",
    "#\n",
    "# Option 2:\n",
    "# Requires 30K in investment\n",
    "# Will pay 10K, 13K, 18K, 25K, 20K each year for the next 5 years.\n",
    "#\n",
    "# Let's calculate the IRR for each investment and compare:"
   ]
  },
  {
   "cell_type": "code",
   "execution_count": 19,
   "id": "b94e053d-f107-4fee-b923-c38fc3d67a3c",
   "metadata": {},
   "outputs": [
    {
     "name": "stdout",
     "output_type": "stream",
     "text": [
      "For Cash Flow [-50000, 10000, 25000, 25000, 35000, 42000] Irr\n",
      "Option 1:  0.3605982754620043\n",
      "For Cash Flow [-30000, 10000, 13000, 18000, 25000, 20000] Irr\n",
      "Option 2:  0.4094208743397143\n"
     ]
    }
   ],
   "source": [
    "cf1 = [-50000, 10000, 25000, 25000, 35000, 42000]\n",
    "cf2 = [-30000, 10000, 13000, 18000, 25000, 20000]\n",
    "print(f\"For Cash Flow {cf1} Irr\")\n",
    "print(\"Option 1: \", npf.irr(cf1))\n",
    "print(f\"For Cash Flow {cf2} Irr\")\n",
    "print(\"Option 2: \", npf.irr(cf2))"
   ]
  },
  {
   "cell_type": "code",
   "execution_count": 20,
   "id": "d73f91e0-0842-42c5-bb6d-e60ba1be72ea",
   "metadata": {},
   "outputs": [],
   "source": [
    "# Plotting Data"
   ]
  },
  {
   "cell_type": "code",
   "execution_count": 21,
   "id": "ed867c6b-53c9-4b10-9dd7-6995b099a1d9",
   "metadata": {},
   "outputs": [
    {
     "data": {
      "image/png": "[encoded data removed]",
      "text/plain": [
       "<Figure size 432x288 with 1 Axes>"
      ]
     },
     "metadata": {
      "needs_background": "light"
     },
     "output_type": "display_data"
    }
   ],
   "source": [
    "rev = [18000, 25000, 20000, 45000, 19500]\n",
    "plt.plot(rev)\n",
    "plt.savefig('Plotting_Data_1.png')"
   ]
  },
  {
   "cell_type": "code",
   "execution_count": 22,
   "id": "000bbf8d-3332-494f-81ff-012f5bb41e98",
   "metadata": {},
   "outputs": [],
   "source": [
    "# Plotting Data 2"
   ]
  },
  {
   "cell_type": "code",
   "execution_count": 26,
   "id": "36195995-ffb9-407a-b845-56aea0a02a60",
   "metadata": {},
   "outputs": [
    {
     "data": {
      "image/png": "[encoded data removed]",
      "text/plain": [
       "<Figure size 432x288 with 1 Axes>"
      ]
     },
     "metadata": {
      "needs_background": "light"
     },
     "output_type": "display_data"
    }
   ],
   "source": [
    "rev = [18000, 25000, 20000, 45000, 32000]\n",
    "months = ['June', 'July', 'August', 'September', 'October']\n",
    "plt.plot(months, rev)\n",
    "plt.savefig('Plotting_Data_2.png')"
   ]
  },
  {
   "cell_type": "code",
   "execution_count": null,
   "id": "a9ffbd70-6ef4-493b-ab81-d2a937e618e2",
   "metadata": {},
   "outputs": [],
   "source": []
  }
 ],
 "metadata": {
  "kernelspec": {
   "display_name": "Python 3 (ipykernel)",
   "language": "python",
   "name": "python3"
  },
  "language_info": {
   "codemirror_mode": {
    "name": "ipython",
    "version": 3
   },
   "file_extension": ".py",
   "mimetype": "text/x-python",
   "name": "python",
   "nbconvert_exporter": "python",
   "pygments_lexer": "ipython3",
   "version": "3.10.1"
  }
 },
 "nbformat": 4,
 "nbformat_minor": 5
}
