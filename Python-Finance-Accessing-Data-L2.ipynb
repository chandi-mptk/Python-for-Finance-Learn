{
 "cells": [
  {
   "cell_type": "code",
   "execution_count": 1,
   "id": "8ab5e480-72ea-492a-b363-b263ed18a90a",
   "metadata": {},
   "outputs": [],
   "source": [
    "import pandas as pd\n",
    "import requests\n",
    "import matplotlib.pyplot as plt\n",
    "import yfinance as yf"
   ]
  },
  {
   "cell_type": "code",
   "execution_count": 2,
   "id": "fab95e57-3659-4c99-87e8-fcb323ca1ff3",
   "metadata": {},
   "outputs": [],
   "source": [
    "# Series"
   ]
  },
  {
   "cell_type": "code",
   "execution_count": 3,
   "id": "84373ed6-9325-44b3-8ad2-efb545f7daa4",
   "metadata": {},
   "outputs": [
    {
     "name": "stdout",
     "output_type": "stream",
     "text": [
      "0     42.80\n",
      "1    102.03\n",
      "2    240.38\n",
      "3     80.90\n",
      "dtype: float64\n"
     ]
    }
   ],
   "source": [
    "prices = [42.8, 102.03, 240.38, 80.9]\n",
    "s = pd.Series(prices)\n",
    "print(s)"
   ]
  },
  {
   "cell_type": "code",
   "execution_count": 4,
   "id": "8a3dd521-5974-4365-9f14-97593725432b",
   "metadata": {},
   "outputs": [
    {
     "name": "stdout",
     "output_type": "stream",
     "text": [
      "count      4.000000\n",
      "mean     116.527500\n",
      "std       86.129132\n",
      "min       42.800000\n",
      "25%       71.375000\n",
      "50%       91.465000\n",
      "75%      136.617500\n",
      "max      240.380000\n",
      "dtype: float64\n"
     ]
    }
   ],
   "source": [
    "print(s.describe())"
   ]
  },
  {
   "cell_type": "code",
   "execution_count": 5,
   "id": "13756f46-95bd-4a52-847d-6f6240aec0aa",
   "metadata": {},
   "outputs": [],
   "source": [
    "# DataFrame"
   ]
  },
  {
   "cell_type": "code",
   "execution_count": 6,
   "id": "771da045-97a7-41c7-bd38-459dd8de396f",
   "metadata": {},
   "outputs": [
    {
     "name": "stdout",
     "output_type": "stream",
     "text": [
      "         date  prices\n",
      "0  2021-06-10   42.80\n",
      "1  2021-06-11  102.03\n",
      "2  2021-06-12  240.38\n",
      "3  2021-06-13   80.90\n"
     ]
    }
   ],
   "source": [
    "data = {\n",
    "    'date': ['2021-06-10', '2021-06-11', '2021-06-12', '2021-06-13'],\n",
    "    'prices': [42.8, 102.03, 240.38, 80.9]\n",
    "}\n",
    "df = pd.DataFrame(data)\n",
    "print(df)"
   ]
  },
  {
   "cell_type": "code",
   "execution_count": 7,
   "id": "854ada52-bb36-461b-9479-a4dbc95e7616",
   "metadata": {},
   "outputs": [],
   "source": [
    "# Web Scraping"
   ]
  },
  {
   "cell_type": "code",
   "execution_count": 8,
   "id": "93624675-8891-4be4-9060-821d5bc221d8",
   "metadata": {},
   "outputs": [
    {
     "name": "stdout",
     "output_type": "stream",
     "text": [
      "All Tables as DataFrame\n",
      "\n",
      "[    Symbol            Security SEC filings             GICS Sector  \\\n",
      "0      MMM                  3M     reports             Industrials   \n",
      "1      AOS         A. O. Smith     reports             Industrials   \n",
      "2      ABT              Abbott     reports             Health Care   \n",
      "3     ABBV              AbbVie     reports             Health Care   \n",
      "4     ABMD             Abiomed     reports             Health Care   \n",
      "..     ...                 ...         ...                     ...   \n",
      "500    YUM         Yum! Brands     reports  Consumer Discretionary   \n",
      "501   ZBRA  Zebra Technologies     reports  Information Technology   \n",
      "502    ZBH       Zimmer Biomet     reports             Health Care   \n",
      "503   ZION       Zions Bancorp     reports              Financials   \n",
      "504    ZTS              Zoetis     reports             Health Care   \n",
      "\n",
      "                      GICS Sub-Industry    Headquarters Location  \\\n",
      "0              Industrial Conglomerates    Saint Paul, Minnesota   \n",
      "1                     Building Products     Milwaukee, Wisconsin   \n",
      "2                 Health Care Equipment  North Chicago, Illinois   \n",
      "3                       Pharmaceuticals  North Chicago, Illinois   \n",
      "4                 Health Care Equipment   Danvers, Massachusetts   \n",
      "..                                  ...                      ...   \n",
      "500                         Restaurants     Louisville, Kentucky   \n",
      "501  Electronic Equipment & Instruments   Lincolnshire, Illinois   \n",
      "502               Health Care Equipment          Warsaw, Indiana   \n",
      "503                      Regional Banks     Salt Lake City, Utah   \n",
      "504                     Pharmaceuticals   Parsippany, New Jersey   \n",
      "\n",
      "    Date first added      CIK      Founded  \n",
      "0         1976-08-09    66740         1902  \n",
      "1         2017-07-26    91142         1916  \n",
      "2         1964-03-31     1800         1888  \n",
      "3         2012-12-31  1551152  2013 (1888)  \n",
      "4         2018-05-31   815094         1981  \n",
      "..               ...      ...          ...  \n",
      "500       1997-10-06  1041061         1997  \n",
      "501       2019-12-23   877212         1969  \n",
      "502       2001-08-07  1136869         1927  \n",
      "503       2001-06-22   109380         1873  \n",
      "504       2013-06-21  1555280         1952  \n",
      "\n",
      "[505 rows x 9 columns],                    Date  Added                      Removed  \\\n",
      "                   Date Ticker             Security  Ticker   \n",
      "0     December 20, 2021   SBNY       Signature Bank     LEG   \n",
      "1     December 20, 2021   SEDG            SolarEdge     HBI   \n",
      "2     December 20, 2021    FDS              FactSet      WU   \n",
      "3     December 14, 2021   EPAM         EPAM Systems     KSU   \n",
      "4    September 20, 2021   MTCH          Match Group    PRGO   \n",
      "..                  ...    ...                  ...     ...   \n",
      "282    December 5, 2000    SBL  Symbol Technologies      OI   \n",
      "283    December 5, 2000    AYE     Allegheny Energy     GRA   \n",
      "284    December 5, 2000    ABK      Ambac Financial     CCK   \n",
      "285       July 27, 2000   JDSU         JDS Uniphase     RAD   \n",
      "286    December 7, 1999   YHOO          Yahoo! Inc.     LDW   \n",
      "\n",
      "                                                                      Reason  \n",
      "                 Security                                             Reason  \n",
      "0         Leggett & Platt                   Market capitalization change.[6]  \n",
      "1             Hanesbrands                   Market capitalization change.[6]  \n",
      "2           Western Union                   Market capitalization change.[6]  \n",
      "3    Kansas City Southern  Canadian Pacific Railway acquired Kansas City ...  \n",
      "4                 Perrigo                   Market capitalization change.[8]  \n",
      "..                    ...                                                ...  \n",
      "282        Owens-Illinois                                Market Cap changes.  \n",
      "283              WR Grace                                Market Cap changes.  \n",
      "284        Crown Holdings                                Market Cap changes.  \n",
      "285               RiteAid                            Market Cap change.[222]  \n",
      "286               Laidlaw                 Market capitalization change.[223]  \n",
      "\n",
      "[287 rows x 6 columns]]\n"
     ]
    }
   ],
   "source": [
    "data = pd.read_html('https://en.wikipedia.org/wiki/List_of_S%26P_500_companies')\n",
    "print(\"All Tables as DataFrame\\n\")\n",
    "print(data)"
   ]
  },
  {
   "cell_type": "code",
   "execution_count": 9,
   "id": "08639e2d-c311-4135-8beb-fffdb32a1045",
   "metadata": {},
   "outputs": [
    {
     "name": "stdout",
     "output_type": "stream",
     "text": [
      "    Symbol            Security SEC filings             GICS Sector  \\\n",
      "0      MMM                  3M     reports             Industrials   \n",
      "1      AOS         A. O. Smith     reports             Industrials   \n",
      "2      ABT              Abbott     reports             Health Care   \n",
      "3     ABBV              AbbVie     reports             Health Care   \n",
      "4     ABMD             Abiomed     reports             Health Care   \n",
      "..     ...                 ...         ...                     ...   \n",
      "500    YUM         Yum! Brands     reports  Consumer Discretionary   \n",
      "501   ZBRA  Zebra Technologies     reports  Information Technology   \n",
      "502    ZBH       Zimmer Biomet     reports             Health Care   \n",
      "503   ZION       Zions Bancorp     reports              Financials   \n",
      "504    ZTS              Zoetis     reports             Health Care   \n",
      "\n",
      "                      GICS Sub-Industry    Headquarters Location  \\\n",
      "0              Industrial Conglomerates    Saint Paul, Minnesota   \n",
      "1                     Building Products     Milwaukee, Wisconsin   \n",
      "2                 Health Care Equipment  North Chicago, Illinois   \n",
      "3                       Pharmaceuticals  North Chicago, Illinois   \n",
      "4                 Health Care Equipment   Danvers, Massachusetts   \n",
      "..                                  ...                      ...   \n",
      "500                         Restaurants     Louisville, Kentucky   \n",
      "501  Electronic Equipment & Instruments   Lincolnshire, Illinois   \n",
      "502               Health Care Equipment          Warsaw, Indiana   \n",
      "503                      Regional Banks     Salt Lake City, Utah   \n",
      "504                     Pharmaceuticals   Parsippany, New Jersey   \n",
      "\n",
      "    Date first added      CIK      Founded  \n",
      "0         1976-08-09    66740         1902  \n",
      "1         2017-07-26    91142         1916  \n",
      "2         1964-03-31     1800         1888  \n",
      "3         2012-12-31  1551152  2013 (1888)  \n",
      "4         2018-05-31   815094         1981  \n",
      "..               ...      ...          ...  \n",
      "500       1997-10-06  1041061         1997  \n",
      "501       2019-12-23   877212         1969  \n",
      "502       2001-08-07  1136869         1927  \n",
      "503       2001-06-22   109380         1873  \n",
      "504       2013-06-21  1555280         1952  \n",
      "\n",
      "[505 rows x 9 columns]\n"
     ]
    }
   ],
   "source": [
    "df = data[0]\n",
    "print(df)"
   ]
  },
  {
   "cell_type": "code",
   "execution_count": 10,
   "id": "bd6350f2-6c14-4bab-a4d4-f8237a69963a",
   "metadata": {},
   "outputs": [],
   "source": [
    "# Web Scraping"
   ]
  },
  {
   "cell_type": "code",
   "execution_count": 11,
   "id": "44886c6c-8e5d-49d5-b631-cfb55cebb250",
   "metadata": {},
   "outputs": [
    {
     "name": "stdout",
     "output_type": "stream",
     "text": [
      "    Symbol            Security\n",
      "0      MMM                  3M\n",
      "1      AOS         A. O. Smith\n",
      "2      ABT              Abbott\n",
      "3     ABBV              AbbVie\n",
      "4     ABMD             Abiomed\n",
      "..     ...                 ...\n",
      "500    YUM         Yum! Brands\n",
      "501   ZBRA  Zebra Technologies\n",
      "502    ZBH       Zimmer Biomet\n",
      "503   ZION       Zions Bancorp\n",
      "504    ZTS              Zoetis\n",
      "\n",
      "[505 rows x 2 columns]\n"
     ]
    }
   ],
   "source": [
    "df1 = df[['Symbol', 'Security']]\n",
    "print(df1)"
   ]
  },
  {
   "cell_type": "code",
   "execution_count": 12,
   "id": "04fa6d0a-efc4-488a-8f65-4aeae89d0c12",
   "metadata": {},
   "outputs": [
    {
     "name": "stdout",
     "output_type": "stream",
     "text": [
      "   Symbol Security\n",
      "46   AAPL    Apple\n"
     ]
    }
   ],
   "source": [
    "df2 = df1[df['Security'] == 'Apple']\n",
    "print(df2)"
   ]
  },
  {
   "cell_type": "code",
   "execution_count": 13,
   "id": "ab4ca1cc-90f4-4e3f-99f6-4941bdd0be76",
   "metadata": {},
   "outputs": [
    {
     "name": "stdout",
     "output_type": "stream",
     "text": [
      "<class 'pandas.core.frame.DataFrame'>\n",
      "RangeIndex: 505 entries, 0 to 504\n",
      "Data columns (total 9 columns):\n",
      " #   Column                 Non-Null Count  Dtype \n",
      "---  ------                 --------------  ----- \n",
      " 0   Symbol                 505 non-null    object\n",
      " 1   Security               505 non-null    object\n",
      " 2   SEC filings            505 non-null    object\n",
      " 3   GICS Sector            505 non-null    object\n",
      " 4   GICS Sub-Industry      505 non-null    object\n",
      " 5   Headquarters Location  505 non-null    object\n",
      " 6   Date first added       457 non-null    object\n",
      " 7   CIK                    505 non-null    int64 \n",
      " 8   Founded                505 non-null    object\n",
      "dtypes: int64(1), object(8)\n",
      "memory usage: 35.6+ KB\n",
      "None\n"
     ]
    }
   ],
   "source": [
    "print(df.info())"
   ]
  },
  {
   "cell_type": "code",
   "execution_count": 14,
   "id": "efb1aeea-9ab3-4869-bcbc-294f5d26bbca",
   "metadata": {},
   "outputs": [],
   "source": [
    "# Yahoo Finance Tesla Profile"
   ]
  },
  {
   "cell_type": "code",
   "execution_count": 15,
   "id": "9c32a455-628d-4c2d-a7f1-0716b513ddea",
   "metadata": {},
   "outputs": [
    {
     "name": "stdout",
     "output_type": "stream",
     "text": [
      "[                       Name                                        Title  \\\n",
      "0          Mr. Elon R. Musk          Technoking of Tesla, CEO & Director   \n",
      "1   Mr. Zachary J. Kirkhorn                         Master of Coin & CFO   \n",
      "2     Mr. Andrew D. Baglino    Sr. VP of Powertrain & Energy Engineering   \n",
      "3        Mr. Vaibhav Taneja  Corp. Controller & Chief Accounting Officer   \n",
      "4         Mr. Martin Viecha          Sr. Director for Investor Relations   \n",
      "5         Mr. Alan Prescott                                  VP of Legal   \n",
      "6           Mr. Dave Arnold        Sr. Director of Global Communications   \n",
      "7              Brian Scelfo                 Sr. Director of Corp. Devel.   \n",
      "8   Mr. Jeffrey B. Straubel                                  Sr. Advisor   \n",
      "9  Mr. Franz von Holzhausen                               Chief Designer   \n",
      "\n",
      "       Pay Exercised  Year Born  \n",
      "0      NaN       NaN     1972.0  \n",
      "1  300.76k     4.19M     1985.0  \n",
      "2  283.27k    14.86M     1981.0  \n",
      "3      NaN       NaN     1978.0  \n",
      "4      NaN       NaN        NaN  \n",
      "5      NaN       NaN        NaN  \n",
      "6      NaN       NaN        NaN  \n",
      "7      NaN       NaN        NaN  \n",
      "8      NaN       NaN     1976.0  \n",
      "9      NaN       NaN        NaN  ]\n"
     ]
    }
   ],
   "source": [
    "url_link = 'https://finance.yahoo.com/quote/TSLA/profile'\n",
    "r = requests.get(url_link, headers={\n",
    "    'User-Agent': 'Mozilla/5.0 (Windows NT 10.0; Win64; x64) AppleWebKit/537.36 (KHTML, like Gecko) Chrome/91.0.4472.124 Safari/537.36'})\n",
    "data = pd.read_html(r.text)\n",
    "print(data)"
   ]
  },
  {
   "cell_type": "code",
   "execution_count": 16,
   "id": "3f6a4488-575d-46f5-8fc7-257a7ca740bf",
   "metadata": {},
   "outputs": [],
   "source": [
    "# Yahoo Finance Tesla Analysis"
   ]
  },
  {
   "cell_type": "code",
   "execution_count": 17,
   "id": "11556e0f-5b8b-43ac-9db1-ebeb76aa9564",
   "metadata": {},
   "outputs": [
    {
     "name": "stdout",
     "output_type": "stream",
     "text": [
      "  Earnings Estimate  Current Qtr. (Mar 2022)  Next Qtr. (Jun 2022)  \\\n",
      "0   No. of Analysts                    14.00                 13.00   \n",
      "1     Avg. Estimate                     2.15                  2.34   \n",
      "2      Low Estimate                     1.58                  1.42   \n",
      "3     High Estimate                     2.68                  3.10   \n",
      "4      Year Ago EPS                     0.93                  1.45   \n",
      "\n",
      "   Current Year (2022)  Next Year (2023)  \n",
      "0                33.00             23.00  \n",
      "1                 9.33             11.73  \n",
      "2                 6.17              6.00  \n",
      "3                12.66             16.50  \n",
      "4                 6.78              9.33  \n"
     ]
    }
   ],
   "source": [
    "url_link = 'https://finance.yahoo.com/quote/TSLA/analysis?p=TSLA'\n",
    "r = requests.get(url_link, headers={\n",
    "    'User-Agent': 'Mozilla/5.0 (Windows NT 10.0; Win64; x64) AppleWebKit/537.36 (KHTML, like Gecko) Chrome/91.0.4472.124 Safari/537.36'})\n",
    "data = pd.read_html(r.text)\n",
    "data = data[0]\n",
    "print(data)"
   ]
  },
  {
   "cell_type": "code",
   "execution_count": 18,
   "id": "4a13224c-c136-4766-b188-d4297cd68d2f",
   "metadata": {},
   "outputs": [
    {
     "name": "stdout",
     "output_type": "stream",
     "text": [
      "  Earnings Estimate  Current Qtr. (Mar 2022)  Next Qtr. (Jun 2022)  \\\n",
      "1     Avg. Estimate                     2.15                  2.34   \n",
      "\n",
      "   Current Year (2022)  Next Year (2023)  \n",
      "1                 9.33             11.73  \n"
     ]
    },
    {
     "data": {
      "text/plain": [
       "<AxesSubplot:>"
      ]
     },
     "execution_count": 18,
     "metadata": {},
     "output_type": "execute_result"
    },
    {
     "data": {
      "image/png": "[encoded data removed]",
      "text/plain": [
       "<Figure size 432x288 with 1 Axes>"
      ]
     },
     "metadata": {
      "needs_background": "light"
     },
     "output_type": "display_data"
    }
   ],
   "source": [
    "data1 = data[data['Earnings Estimate'] == 'Avg. Estimate']\n",
    "print(data1)\n",
    "data1.plot(kind='bar')"
   ]
  },
  {
   "cell_type": "code",
   "execution_count": 19,
   "id": "2071be54-cd5f-4188-aa09-30c8a90f04d6",
   "metadata": {},
   "outputs": [],
   "source": [
    "# yFinance"
   ]
  },
  {
   "cell_type": "code",
   "execution_count": 20,
   "id": "cbcb0a59-b991-46c0-a479-1d16cd429237",
   "metadata": {},
   "outputs": [],
   "source": [
    "data = yf.Ticker(\"TSLA\")"
   ]
  },
  {
   "cell_type": "code",
   "execution_count": 21,
   "id": "524b4c61-d664-43a6-81c5-9b3b7c77e26e",
   "metadata": {},
   "outputs": [
    {
     "name": "stdout",
     "output_type": "stream",
     "text": [
      "0.07403\n",
      "0.15641\n"
     ]
    }
   ],
   "source": [
    "print(data.info['profitMargins'])\n",
    "print(data.info['returnOnEquity'])"
   ]
  },
  {
   "cell_type": "code",
   "execution_count": 27,
   "id": "2fdf3b63-564c-4031-8a95-fa70ea067217",
   "metadata": {},
   "outputs": [],
   "source": [
    "# No Data Available then Error in Jupiter Notebook\n",
    "# show dividends\n",
    "#print(data.dividends)\n",
    "# show splits\n",
    "#print(data.splits)"
   ]
  },
  {
   "cell_type": "code",
   "execution_count": 28,
   "id": "42264376-3433-4f42-aff4-59ee58d971be",
   "metadata": {},
   "outputs": [
    {
     "name": "stdout",
     "output_type": "stream",
     "text": [
      "                             2020-12-31    2019-12-31    2018-12-31  \\\n",
      "Intangible Assets          3.130000e+08  3.390000e+08  2.820000e+08   \n",
      "Capital Surplus            2.726000e+10  1.273600e+10  1.024900e+10   \n",
      "Total Liab                 2.846900e+10  2.619900e+10  2.342700e+10   \n",
      "Total Stockholder Equity   2.222500e+10  6.618000e+09  4.923000e+09   \n",
      "Minority Interest          1.454000e+09  1.492000e+09  1.390000e+09   \n",
      "Other Current Liab         4.147000e+09  3.693000e+09  2.955000e+09   \n",
      "Total Assets               5.214800e+10  3.430900e+10  2.974000e+10   \n",
      "Common Stock               1.000000e+06  1.000000e+06           NaN   \n",
      "Other Current Assets       2.380000e+08  2.460000e+08  1.930000e+08   \n",
      "Retained Earnings         -5.399000e+09 -6.083000e+09 -5.318000e+09   \n",
      "Other Liab                 3.302000e+09  2.969000e+09  2.318000e+09   \n",
      "Good Will                  2.070000e+08  1.980000e+08  6.800000e+07   \n",
      "Treasury Stock             3.630000e+08 -3.600000e+07 -8.000000e+06   \n",
      "Other Assets               1.536000e+09  1.469000e+09  1.380000e+09   \n",
      "Cash                       1.938400e+10  6.268000e+09  3.686000e+09   \n",
      "Total Current Liabilities  1.424800e+10  1.066700e+10  9.993000e+09   \n",
      "Short Long Term Debt       1.758000e+09  1.399000e+09  2.284000e+09   \n",
      "Other Stockholder Equity   3.630000e+08 -3.600000e+07 -8.000000e+06   \n",
      "Property Plant Equipment   2.337500e+10  2.019900e+10  1.969100e+10   \n",
      "Total Current Assets       2.671700e+10  1.210300e+10  8.307000e+09   \n",
      "Net Tangible Assets        2.170500e+10  6.081000e+09  4.573000e+09   \n",
      "Net Receivables            1.903000e+09  1.324000e+09  9.490000e+08   \n",
      "Long Term Debt             8.571000e+09  1.037500e+10  8.461000e+09   \n",
      "Inventory                  4.101000e+09  3.552000e+09  3.113000e+09   \n",
      "Accounts Payable           6.051000e+09  3.771000e+09  3.405000e+09   \n",
      "Long Term Investments               NaN  1.000000e+06  1.200000e+07   \n",
      "\n",
      "                             2017-12-31  \n",
      "Intangible Assets          3.615020e+08  \n",
      "Capital Surplus            9.178024e+09  \n",
      "Total Liab                 2.302305e+10  \n",
      "Total Stockholder Equity   4.237242e+09  \n",
      "Minority Interest          1.395080e+09  \n",
      "Other Current Liab         3.098379e+09  \n",
      "Total Assets               2.865537e+10  \n",
      "Common Stock               1.690000e+05  \n",
      "Other Current Assets       1.553230e+08  \n",
      "Retained Earnings         -4.974299e+09  \n",
      "Other Liab                 4.196294e+09  \n",
      "Good Will                  6.023700e+07  \n",
      "Treasury Stock             3.334800e+07  \n",
      "Other Assets               1.166193e+09  \n",
      "Cash                       3.367914e+09  \n",
      "Total Current Liabilities  7.674740e+09  \n",
      "Short Long Term Debt       9.639320e+08  \n",
      "Other Stockholder Equity   3.334800e+07  \n",
      "Property Plant Equipment   2.049162e+10  \n",
      "Total Current Assets       6.570520e+09  \n",
      "Net Tangible Assets        3.815503e+09  \n",
      "Net Receivables            5.153810e+08  \n",
      "Long Term Debt             9.486248e+09  \n",
      "Inventory                  2.263537e+09  \n",
      "Accounts Payable           2.390250e+09  \n",
      "Long Term Investments      5.304000e+06  \n"
     ]
    }
   ],
   "source": [
    "# show balance sheet\n",
    "print(data.balance_sheet)"
   ]
  },
  {
   "cell_type": "code",
   "execution_count": 29,
   "id": "2a4ac284-3e22-47c4-b8d3-418d0222587e",
   "metadata": {},
   "outputs": [
    {
     "name": "stdout",
     "output_type": "stream",
     "text": [
      "                                             2020-12-31    2019-12-31  \\\n",
      "Change To Liabilities                      2.423000e+09  1.447000e+09   \n",
      "Total Cashflows From Investing Activities -3.132000e+09 -1.436000e+09   \n",
      "Net Borrowings                            -2.488000e+09  7.980000e+08   \n",
      "Total Cash From Financing Activities       9.973000e+09  1.529000e+09   \n",
      "Change To Operating Activities            -1.165000e+09 -1.000000e+09   \n",
      "Issuance Of Stock                          1.268600e+10  1.111000e+09   \n",
      "Net Income                                 7.210000e+08 -8.620000e+08   \n",
      "Change In Cash                             1.311800e+10  2.506000e+09   \n",
      "Effect Of Exchange Rate                    3.340000e+08  8.000000e+06   \n",
      "Total Cash From Operating Activities       5.943000e+09  2.405000e+09   \n",
      "Depreciation                               2.322000e+09  2.092000e+09   \n",
      "Other Cashflows From Investing Activities  1.230000e+08  4.600000e+07   \n",
      "Change To Inventory                       -4.220000e+08 -4.290000e+08   \n",
      "Change To Account Receivables             -6.520000e+08 -3.670000e+08   \n",
      "Other Cashflows From Financing Activities -2.250000e+08 -3.800000e+08   \n",
      "Change To Netincome                        2.536000e+09  1.336000e+09   \n",
      "Capital Expenditures                      -3.232000e+09 -1.432000e+09   \n",
      "\n",
      "                                             2018-12-31    2017-12-31  \n",
      "Change To Liabilities                      2.203000e+09  8.570000e+08  \n",
      "Total Cashflows From Investing Activities -2.337000e+09 -4.196000e+09  \n",
      "Net Borrowings                             8.900000e+07  3.385000e+09  \n",
      "Total Cash From Financing Activities       5.740000e+08  4.415000e+09  \n",
      "Change To Operating Activities            -6.250000e+08 -1.150000e+09  \n",
      "Issuance Of Stock                          2.960000e+08  6.590000e+08  \n",
      "Net Income                                -9.760000e+08 -1.962000e+09  \n",
      "Change In Cash                             3.120000e+08  1.980000e+08  \n",
      "Effect Of Exchange Rate                   -2.300000e+07  4.000000e+07  \n",
      "Total Cash From Operating Activities       2.098000e+09 -6.100000e+07  \n",
      "Depreciation                               1.888000e+09  1.636000e+09  \n",
      "Other Cashflows From Investing Activities  4.600000e+07  4.600000e+07  \n",
      "Change To Inventory                       -1.023000e+09 -1.790000e+08  \n",
      "Change To Account Receivables             -4.970000e+08 -2.500000e+07  \n",
      "Other Cashflows From Financing Activities  1.890000e+08  3.710000e+08  \n",
      "Change To Netincome                        9.690000e+08  6.710000e+08  \n",
      "Capital Expenditures                      -2.319000e+09 -4.081000e+09  \n"
     ]
    }
   ],
   "source": [
    "# show cashflow\n",
    "print(data.cashflow)"
   ]
  },
  {
   "cell_type": "code",
   "execution_count": 30,
   "id": "dd0c896a-b682-4ebf-9a29-f17b5c957239",
   "metadata": {},
   "outputs": [
    {
     "name": "stdout",
     "output_type": "stream",
     "text": [
      "          Revenue    Earnings\n",
      "Year                         \n",
      "2017  11759000000 -1962000000\n",
      "2018  21461000000  -976000000\n",
      "2019  24578000000  -862000000\n",
      "2020  31536000000   721000000\n"
     ]
    }
   ],
   "source": [
    "# show earnings\n",
    "print(data.earnings)"
   ]
  },
  {
   "cell_type": "code",
   "execution_count": 31,
   "id": "6d864394-155a-4927-8118-a048e0638d06",
   "metadata": {},
   "outputs": [
    {
     "name": "stdout",
     "output_type": "stream",
     "text": [
      "          Revenue    Earnings\n",
      "Year                         \n",
      "2017  11759000000 -1962000000\n",
      "2018  21461000000  -976000000\n",
      "2019  24578000000  -862000000\n",
      "2020  31536000000   721000000\n"
     ]
    }
   ],
   "source": [
    "x = data.earnings\n",
    "print(x)"
   ]
  },
  {
   "cell_type": "code",
   "execution_count": 32,
   "id": "b1e6be3b-4d4c-43d9-8b9b-f59753919088",
   "metadata": {},
   "outputs": [
    {
     "data": {
      "text/plain": [
       "<AxesSubplot:xlabel='Year'>"
      ]
     },
     "execution_count": 32,
     "metadata": {},
     "output_type": "execute_result"
    },
    {
     "data": {
      "image/png": "[encoded data removed]",
      "text/plain": [
       "<Figure size 432x288 with 1 Axes>"
      ]
     },
     "metadata": {
      "needs_background": "light"
     },
     "output_type": "display_data"
    }
   ],
   "source": [
    "x.plot(kind=\"bar\")"
   ]
  },
  {
   "cell_type": "code",
   "execution_count": 33,
   "id": "5e359a46-9f59-4bb0-9098-14eff74ca48f",
   "metadata": {},
   "outputs": [],
   "source": [
    "# Company Data"
   ]
  },
  {
   "cell_type": "code",
   "execution_count": 35,
   "id": "e75ed7d5-8650-4a95-9319-edfa2bafb0cd",
   "metadata": {},
   "outputs": [
    {
     "name": "stdout",
     "output_type": "stream",
     "text": [
      "                              Firm        To Grade From Grade Action\n",
      "Date                                                                \n",
      "2022-01-03 14:17:31    RBC Capital  Sector Perform              main\n",
      "2022-01-03 16:33:41      JP Morgan     Underweight              main\n",
      "2022-01-03 17:54:18  Deutsche Bank             Buy              main\n",
      "2022-01-05 14:03:16         Mizuho             Buy              main\n",
      "2022-01-05 14:17:09       Barclays     Underweight              main\n",
      "2022-01-18 13:14:03  Credit Suisse         Neutral              main\n",
      "2022-01-27 11:48:27      JP Morgan     Underweight              main\n",
      "2022-01-27 11:53:32    Wells Fargo    Equal-Weight              main\n",
      "2022-01-27 14:14:58      Citigroup            Sell              main\n"
     ]
    }
   ],
   "source": [
    "x = data.recommendations\n",
    "x = x[x.index > '2022-01-01']\n",
    "print(x)"
   ]
  },
  {
   "cell_type": "code",
   "execution_count": 36,
   "id": "302d808e-9d5a-4ad2-8ce9-bd270530c94a",
   "metadata": {},
   "outputs": [
    {
     "name": "stdout",
     "output_type": "stream",
     "text": [
      "Apple Inc. : 1.47443\n",
      "Microsoft Corporation : 0.49051\n"
     ]
    }
   ],
   "source": [
    "def RoE(ticker):\n",
    "    data = yf.Ticker(ticker)\n",
    "    roe = data.info['returnOnEquity']\n",
    "    name = data.info['shortName']\n",
    "    print(name, \":\", roe)\n",
    "\n",
    "RoE('AAPL')\n",
    "RoE('MSFT')"
   ]
  },
  {
   "cell_type": "code",
   "execution_count": null,
   "id": "5ca3331b-bd3e-4734-9a7b-d9c0a88c4790",
   "metadata": {},
   "outputs": [],
   "source": []
  }
 ],
 "metadata": {
  "kernelspec": {
   "display_name": "Python 3 (ipykernel)",
   "language": "python",
   "name": "python3"
  },
  "language_info": {
   "codemirror_mode": {
    "name": "ipython",
    "version": 3
   },
   "file_extension": ".py",
   "mimetype": "text/x-python",
   "name": "python",
   "nbconvert_exporter": "python",
   "pygments_lexer": "ipython3",
   "version": "3.10.1"
  }
 },
 "nbformat": 4,
 "nbformat_minor": 5
}
